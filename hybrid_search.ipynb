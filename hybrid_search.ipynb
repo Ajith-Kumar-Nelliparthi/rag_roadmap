{
  "cells": [
    {
      "cell_type": "code",
      "execution_count": 3,
      "metadata": {
        "colab": {
          "base_uri": "https://localhost:8080/"
        },
        "id": "CguAVm3l_dwA",
        "outputId": "7a18fce8-3c42-468a-e9a6-44c1a64e2f6e"
      },
      "outputs": [
        {
          "name": "stdout",
          "output_type": "stream",
          "text": [
            "\u001b[?25l   \u001b[90m━━━━━━━━━━━━━━━━━━━━━━━━━━━━━━━━━━━━━━━━\u001b[0m \u001b[32m0.0/2.5 MB\u001b[0m \u001b[31m?\u001b[0m eta \u001b[36m-:--:--\u001b[0m\r\u001b[2K   \u001b[91m━━━━━━━━━━━━━━━━━━━━━━━━━━━━━━━━━━━━━━━\u001b[0m\u001b[91m╸\u001b[0m \u001b[32m2.5/2.5 MB\u001b[0m \u001b[31m170.3 MB/s\u001b[0m eta \u001b[36m0:00:01\u001b[0m\r\u001b[2K   \u001b[90m━━━━━━━━━━━━━━━━━━━━━━━━━━━━━━━━━━━━━━━━\u001b[0m \u001b[32m2.5/2.5 MB\u001b[0m \u001b[31m70.4 MB/s\u001b[0m eta \u001b[36m0:00:00\u001b[0m\n",
            "\u001b[?25h\u001b[?25l   \u001b[90m━━━━━━━━━━━━━━━━━━━━━━━━━━━━━━━━━━━━━━━━\u001b[0m \u001b[32m0.0/44.4 kB\u001b[0m \u001b[31m?\u001b[0m eta \u001b[36m-:--:--\u001b[0m\r\u001b[2K   \u001b[90m━━━━━━━━━━━━━━━━━━━━━━━━━━━━━━━━━━━━━━━━\u001b[0m \u001b[32m44.4/44.4 kB\u001b[0m \u001b[31m3.6 MB/s\u001b[0m eta \u001b[36m0:00:00\u001b[0m\n",
            "\u001b[?25h\u001b[?25l   \u001b[90m━━━━━━━━━━━━━━━━━━━━━━━━━━━━━━━━━━━━━━━━\u001b[0m \u001b[32m0.0/50.9 kB\u001b[0m \u001b[31m?\u001b[0m eta \u001b[36m-:--:--\u001b[0m\r\u001b[2K   \u001b[90m━━━━━━━━━━━━━━━━━━━━━━━━━━━━━━━━━━━━━━━━\u001b[0m \u001b[32m50.9/50.9 kB\u001b[0m \u001b[31m4.1 MB/s\u001b[0m eta \u001b[36m0:00:00\u001b[0m\n",
            "\u001b[?25h"
          ]
        }
      ],
      "source": [
        "!pip -q install langchain huggingface_hub openai google-search-results tiktoken chromadb rank_bm25 faiss-cpu langchain-community"
      ]
    },
    {
      "cell_type": "markdown",
      "metadata": {
        "id": "FeZdcEuUAMKZ"
      },
      "source": [
        "## Hybrid Search\n",
        "### BM25 Retriever - Sparse Retreiver"
      ]
    },
    {
      "cell_type": "code",
      "execution_count": 2,
      "metadata": {
        "colab": {
          "base_uri": "https://localhost:8080/"
        },
        "id": "L7rVfV-J_dqa",
        "outputId": "40ca616e-58b8-424c-ecd3-df390b06da9a"
      },
      "outputs": [
        {
          "name": "stderr",
          "output_type": "stream",
          "text": [
            "<ipython-input-2-938344147>:8: LangChainDeprecationWarning: The class `OpenAIEmbeddings` was deprecated in LangChain 0.0.9 and will be removed in 1.0. An updated version of the class exists in the :class:`~langchain-openai package and should be used instead. To use it run `pip install -U :class:`~langchain-openai` and import as `from :class:`~langchain_openai import OpenAIEmbeddings``.\n",
            "  embeddings = OpenAIEmbeddings()\n"
          ]
        }
      ],
      "source": [
        "from langchain.retrievers import BM25Retriever, EnsembleRetriever\n",
        "from langchain.schema import Document\n",
        "\n",
        "from langchain.vectorstores import Chroma\n",
        "from langchain.vectorstores import FAISS\n",
        "\n",
        "from langchain.embeddings.openai import OpenAIEmbeddings\n",
        "embeddings = OpenAIEmbeddings()"
      ]
    },
    {
      "cell_type": "code",
      "execution_count": 19,
      "metadata": {
        "id": "HXl70-wI_cn_"
      },
      "outputs": [],
      "source": [
        "doc_list = [\n",
        "    \"I like apples\",\n",
        "    \"I like oranges\",\n",
        "    \"Apples and oranges are fruits\",\n",
        "    \"I like computers by Apple\",\n",
        "    \"I love fruit juice\",\n",
        "    \"Samsung is a chinese company which makes smart phones\",\n",
        "    \"China mobiles are so cheap\",\n",
        "    \"India import Chinese company mobiles\"\n",
        "]"
      ]
    },
    {
      "cell_type": "code",
      "execution_count": 20,
      "metadata": {
        "id": "l7_NhBuu_cjx"
      },
      "outputs": [],
      "source": [
        "# initialize the bm25 retriever and faiss retreiver\n",
        "bm25_retriever = BM25Retriever.from_texts(doc_list)\n",
        "bm25_retriever.k = 2"
      ]
    },
    {
      "cell_type": "code",
      "execution_count": 21,
      "metadata": {
        "colab": {
          "base_uri": "https://localhost:8080/"
        },
        "id": "MEU2Smgv_cff",
        "outputId": "0aa46741-16a4-4a06-de76-d182e55cacfd"
      },
      "outputs": [
        {
          "data": {
            "text/plain": [
              "[Document(metadata={}, page_content='I like computers by Apple'),\n",
              " Document(metadata={}, page_content='India import Chinese company mobiles')]"
            ]
          },
          "execution_count": 21,
          "metadata": {},
          "output_type": "execute_result"
        }
      ],
      "source": [
        "bm25_retriever.get_relevant_documents(\"Apple\")"
      ]
    },
    {
      "cell_type": "code",
      "execution_count": 22,
      "metadata": {
        "colab": {
          "base_uri": "https://localhost:8080/"
        },
        "id": "3OeHmdhU_cbq",
        "outputId": "071cb41c-3f09-4207-e1d5-73b66ccb24f0"
      },
      "outputs": [
        {
          "data": {
            "text/plain": [
              "[Document(metadata={}, page_content='I love fruit juice'),\n",
              " Document(metadata={}, page_content='Samsung is a chinese company which makes smart phones')]"
            ]
          },
          "execution_count": 22,
          "metadata": {},
          "output_type": "execute_result"
        }
      ],
      "source": [
        "bm25_retriever.get_relevant_documents(\"a green fruit\")"
      ]
    },
    {
      "cell_type": "markdown",
      "metadata": {
        "id": "JYD2UaGUCOTO"
      },
      "source": [
        "## Embeddings - Dense retrievers FAISS"
      ]
    },
    {
      "cell_type": "code",
      "execution_count": 23,
      "metadata": {
        "id": "R54gdGZrC-6O"
      },
      "outputs": [],
      "source": [
        "from langchain.embeddings import HuggingFaceBgeEmbeddings\n",
        "import torch\n",
        "model_name = \"BAAI/bge-small-en-v1.5\"\n",
        "encode_kwargs = {'normalize_embeddings': True} # set True to compute cosine similarity\n",
        "\n",
        "# Detect device\n",
        "device = 'cuda' if torch.cuda.is_available() else 'cpu'\n",
        "\n",
        "# Initialize embeddings\n",
        "bge_embeddings = HuggingFaceBgeEmbeddings(\n",
        "    model_name=model_name,\n",
        "    model_kwargs={'device': device},\n",
        "    encode_kwargs=encode_kwargs\n",
        ")"
      ]
    },
    {
      "cell_type": "code",
      "execution_count": 24,
      "metadata": {
        "id": "zJHl0qlD_cXg"
      },
      "outputs": [],
      "source": [
        "faiss_vectorstore = FAISS.from_texts(doc_list, bge_embeddings)\n",
        "faiss_retriever = faiss_vectorstore.as_retriever(search_kwargs={\"k\": 2})"
      ]
    },
    {
      "cell_type": "code",
      "execution_count": 25,
      "metadata": {
        "colab": {
          "base_uri": "https://localhost:8080/"
        },
        "id": "zGEac-OC_cTO",
        "outputId": "db211080-c1f8-4915-9a5e-e74fdbfaab28"
      },
      "outputs": [
        {
          "data": {
            "text/plain": [
              "[Document(id='d04cd9d8-eba2-4530-a810-99216c09e493', metadata={}, page_content='I like apples'),\n",
              " Document(id='db093eac-3f57-4a48-9fc2-e9c1f572c137', metadata={}, page_content='I love fruit juice')]"
            ]
          },
          "execution_count": 25,
          "metadata": {},
          "output_type": "execute_result"
        }
      ],
      "source": [
        "faiss_retriever.get_relevant_documents(\"i like green fruits\")"
      ]
    },
    {
      "cell_type": "markdown",
      "metadata": {
        "id": "7lqw2oAhDTru"
      },
      "source": [
        "## Ensemble Retriever"
      ]
    },
    {
      "cell_type": "code",
      "execution_count": 26,
      "metadata": {
        "id": "BJXAKyP-_cOz"
      },
      "outputs": [],
      "source": [
        "# initialize the ensemble retriever\n",
        "ensemble_retriever = EnsembleRetriever(\n",
        "    retrievers=[bm25_retriever, faiss_retriever],\n",
        "    weights=[0.5, 0.5]\n",
        ")\n"
      ]
    },
    {
      "cell_type": "code",
      "execution_count": 27,
      "metadata": {
        "colab": {
          "base_uri": "https://localhost:8080/"
        },
        "id": "szgVPTYM_cKV",
        "outputId": "c20008bb-7987-44f1-dd91-ca53aec0acda"
      },
      "outputs": [
        {
          "data": {
            "text/plain": [
              "[Document(metadata={}, page_content='I love fruit juice'),\n",
              " Document(id='c8b13141-6c9d-46af-8e95-d1c635afd936', metadata={}, page_content='China mobiles are so cheap'),\n",
              " Document(metadata={}, page_content='Samsung is a chinese company which makes smart phones'),\n",
              " Document(id='8e6ca393-cfc0-40ce-ab34-25803c97cca0', metadata={}, page_content='India import Chinese company mobiles')]"
            ]
          },
          "execution_count": 27,
          "metadata": {},
          "output_type": "execute_result"
        }
      ],
      "source": [
        "docs = ensemble_retriever.get_relevant_documents(\"i love chinese mobiles\")\n",
        "docs"
      ]
    },
    {
      "cell_type": "code",
      "execution_count": 28,
      "metadata": {
        "colab": {
          "base_uri": "https://localhost:8080/"
        },
        "id": "Ybskpe_Z_cGK",
        "outputId": "1aed1c02-b6c8-4cb7-c2d7-8e47848ee936"
      },
      "outputs": [
        {
          "data": {
            "text/plain": [
              "[Document(metadata={}, page_content='I like computers by Apple'),\n",
              " Document(metadata={}, page_content='India import Chinese company mobiles'),\n",
              " Document(id='d04cd9d8-eba2-4530-a810-99216c09e493', metadata={}, page_content='I like apples')]"
            ]
          },
          "execution_count": 28,
          "metadata": {},
          "output_type": "execute_result"
        }
      ],
      "source": [
        "docs = ensemble_retriever.get_relevant_documents(\"Apple Phones\")\n",
        "docs"
      ]
    }
  ],
  "metadata": {
    "colab": {
      "provenance": []
    },
    "kernelspec": {
      "display_name": "Python 3",
      "name": "python3"
    },
    "language_info": {
      "name": "python"
    }
  },
  "nbformat": 4,
  "nbformat_minor": 0
}
