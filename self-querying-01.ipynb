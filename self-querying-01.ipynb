{
  "cells": [
    {
      "cell_type": "code",
      "execution_count": 3,
      "metadata": {
        "colab": {
          "base_uri": "https://localhost:8080/"
        },
        "id": "3nujX7SfIDpk",
        "outputId": "8d1ae968-eb2b-4c52-ddfb-1b64f325c988"
      },
      "outputs": [
        {
          "name": "stdout",
          "output_type": "stream",
          "text": [
            "Found existing installation: pinecone-client 2.2.4\n",
            "Uninstalling pinecone-client-2.2.4:\n",
            "  Successfully uninstalled pinecone-client-2.2.4\n",
            "\u001b[33mWARNING: Skipping pinecone as it is not installed.\u001b[0m\u001b[33m\n",
            "\u001b[0mFound existing installation: langchain 0.3.25\n",
            "Uninstalling langchain-0.3.25:\n",
            "  Successfully uninstalled langchain-0.3.25\n",
            "Found existing installation: langchain-community 0.3.25\n",
            "Uninstalling langchain-community-0.3.25:\n",
            "  Successfully uninstalled langchain-community-0.3.25\n",
            "Found existing installation: langchain-huggingface 0.3.0\n",
            "Uninstalling langchain-huggingface-0.3.0:\n",
            "  Successfully uninstalled langchain-huggingface-0.3.0\n"
          ]
        }
      ],
      "source": [
        "!pip uninstall -y pinecone-client pinecone langchain langchain-community langchain-huggingface"
      ]
    },
    {
      "cell_type": "code",
      "execution_count": 1,
      "metadata": {
        "colab": {
          "base_uri": "https://localhost:8080/"
        },
        "id": "OhHHGNbUU9Fj",
        "outputId": "e5c9acff-dcb3-4b32-bfa3-501d704ccd6e"
      },
      "outputs": [
        {
          "name": "stdout",
          "output_type": "stream",
          "text": [
            "Requirement already satisfied: langchain in /usr/local/lib/python3.11/dist-packages (0.3.25)\n",
            "Requirement already satisfied: langchain-community in /usr/local/lib/python3.11/dist-packages (0.3.25)\n",
            "Requirement already satisfied: langchain-huggingface in /usr/local/lib/python3.11/dist-packages (0.3.0)\n",
            "Requirement already satisfied: langchain-core<1.0.0,>=0.3.58 in /usr/local/lib/python3.11/dist-packages (from langchain) (0.3.65)\n",
            "Requirement already satisfied: langchain-text-splitters<1.0.0,>=0.3.8 in /usr/local/lib/python3.11/dist-packages (from langchain) (0.3.8)\n",
            "Requirement already satisfied: langsmith<0.4,>=0.1.17 in /usr/local/lib/python3.11/dist-packages (from langchain) (0.3.45)\n",
            "Requirement already satisfied: pydantic<3.0.0,>=2.7.4 in /usr/local/lib/python3.11/dist-packages (from langchain) (2.11.5)\n",
            "Requirement already satisfied: SQLAlchemy<3,>=1.4 in /usr/local/lib/python3.11/dist-packages (from langchain) (2.0.41)\n",
            "Requirement already satisfied: requests<3,>=2 in /usr/local/lib/python3.11/dist-packages (from langchain) (2.32.3)\n",
            "Requirement already satisfied: PyYAML>=5.3 in /usr/local/lib/python3.11/dist-packages (from langchain) (6.0.2)\n",
            "Requirement already satisfied: aiohttp<4.0.0,>=3.8.3 in /usr/local/lib/python3.11/dist-packages (from langchain-community) (3.11.15)\n",
            "Requirement already satisfied: tenacity!=8.4.0,<10,>=8.1.0 in /usr/local/lib/python3.11/dist-packages (from langchain-community) (9.1.2)\n",
            "Requirement already satisfied: dataclasses-json<0.7,>=0.5.7 in /usr/local/lib/python3.11/dist-packages (from langchain-community) (0.6.7)\n",
            "Requirement already satisfied: pydantic-settings<3.0.0,>=2.4.0 in /usr/local/lib/python3.11/dist-packages (from langchain-community) (2.9.1)\n",
            "Requirement already satisfied: httpx-sse<1.0.0,>=0.4.0 in /usr/local/lib/python3.11/dist-packages (from langchain-community) (0.4.0)\n",
            "Requirement already satisfied: numpy>=1.26.2 in /usr/local/lib/python3.11/dist-packages (from langchain-community) (1.26.4)\n",
            "Requirement already satisfied: tokenizers>=0.19.1 in /usr/local/lib/python3.11/dist-packages (from langchain-huggingface) (0.21.1)\n",
            "Requirement already satisfied: huggingface-hub>=0.30.2 in /usr/local/lib/python3.11/dist-packages (from langchain-huggingface) (0.32.4)\n",
            "Requirement already satisfied: aiohappyeyeballs>=2.3.0 in /usr/local/lib/python3.11/dist-packages (from aiohttp<4.0.0,>=3.8.3->langchain-community) (2.6.1)\n",
            "Requirement already satisfied: aiosignal>=1.1.2 in /usr/local/lib/python3.11/dist-packages (from aiohttp<4.0.0,>=3.8.3->langchain-community) (1.3.2)\n",
            "Requirement already satisfied: attrs>=17.3.0 in /usr/local/lib/python3.11/dist-packages (from aiohttp<4.0.0,>=3.8.3->langchain-community) (25.3.0)\n",
            "Requirement already satisfied: frozenlist>=1.1.1 in /usr/local/lib/python3.11/dist-packages (from aiohttp<4.0.0,>=3.8.3->langchain-community) (1.6.0)\n",
            "Requirement already satisfied: multidict<7.0,>=4.5 in /usr/local/lib/python3.11/dist-packages (from aiohttp<4.0.0,>=3.8.3->langchain-community) (6.4.4)\n",
            "Requirement already satisfied: propcache>=0.2.0 in /usr/local/lib/python3.11/dist-packages (from aiohttp<4.0.0,>=3.8.3->langchain-community) (0.3.1)\n",
            "Requirement already satisfied: yarl<2.0,>=1.17.0 in /usr/local/lib/python3.11/dist-packages (from aiohttp<4.0.0,>=3.8.3->langchain-community) (1.20.0)\n",
            "Requirement already satisfied: marshmallow<4.0.0,>=3.18.0 in /usr/local/lib/python3.11/dist-packages (from dataclasses-json<0.7,>=0.5.7->langchain-community) (3.26.1)\n",
            "Requirement already satisfied: typing-inspect<1,>=0.4.0 in /usr/local/lib/python3.11/dist-packages (from dataclasses-json<0.7,>=0.5.7->langchain-community) (0.9.0)\n",
            "Requirement already satisfied: filelock in /usr/local/lib/python3.11/dist-packages (from huggingface-hub>=0.30.2->langchain-huggingface) (3.18.0)\n",
            "Requirement already satisfied: fsspec>=2023.5.0 in /usr/local/lib/python3.11/dist-packages (from huggingface-hub>=0.30.2->langchain-huggingface) (2025.3.2)\n",
            "Requirement already satisfied: packaging>=20.9 in /usr/local/lib/python3.11/dist-packages (from huggingface-hub>=0.30.2->langchain-huggingface) (24.2)\n",
            "Requirement already satisfied: tqdm>=4.42.1 in /usr/local/lib/python3.11/dist-packages (from huggingface-hub>=0.30.2->langchain-huggingface) (4.67.1)\n",
            "Requirement already satisfied: typing-extensions>=3.7.4.3 in /usr/local/lib/python3.11/dist-packages (from huggingface-hub>=0.30.2->langchain-huggingface) (4.14.0)\n",
            "Requirement already satisfied: hf-xet<2.0.0,>=1.1.2 in /usr/local/lib/python3.11/dist-packages (from huggingface-hub>=0.30.2->langchain-huggingface) (1.1.2)\n",
            "Requirement already satisfied: jsonpatch<2.0,>=1.33 in /usr/local/lib/python3.11/dist-packages (from langchain-core<1.0.0,>=0.3.58->langchain) (1.33)\n",
            "Requirement already satisfied: httpx<1,>=0.23.0 in /usr/local/lib/python3.11/dist-packages (from langsmith<0.4,>=0.1.17->langchain) (0.28.1)\n",
            "Requirement already satisfied: orjson<4.0.0,>=3.9.14 in /usr/local/lib/python3.11/dist-packages (from langsmith<0.4,>=0.1.17->langchain) (3.10.18)\n",
            "Requirement already satisfied: requests-toolbelt<2.0.0,>=1.0.0 in /usr/local/lib/python3.11/dist-packages (from langsmith<0.4,>=0.1.17->langchain) (1.0.0)\n",
            "Requirement already satisfied: zstandard<0.24.0,>=0.23.0 in /usr/local/lib/python3.11/dist-packages (from langsmith<0.4,>=0.1.17->langchain) (0.23.0)\n",
            "Requirement already satisfied: annotated-types>=0.6.0 in /usr/local/lib/python3.11/dist-packages (from pydantic<3.0.0,>=2.7.4->langchain) (0.7.0)\n",
            "Requirement already satisfied: pydantic-core==2.33.2 in /usr/local/lib/python3.11/dist-packages (from pydantic<3.0.0,>=2.7.4->langchain) (2.33.2)\n",
            "Requirement already satisfied: typing-inspection>=0.4.0 in /usr/local/lib/python3.11/dist-packages (from pydantic<3.0.0,>=2.7.4->langchain) (0.4.1)\n",
            "Requirement already satisfied: python-dotenv>=0.21.0 in /usr/local/lib/python3.11/dist-packages (from pydantic-settings<3.0.0,>=2.4.0->langchain-community) (1.1.0)\n",
            "Requirement already satisfied: charset-normalizer<4,>=2 in /usr/local/lib/python3.11/dist-packages (from requests<3,>=2->langchain) (3.4.2)\n",
            "Requirement already satisfied: idna<4,>=2.5 in /usr/local/lib/python3.11/dist-packages (from requests<3,>=2->langchain) (3.10)\n",
            "Requirement already satisfied: urllib3<3,>=1.21.1 in /usr/local/lib/python3.11/dist-packages (from requests<3,>=2->langchain) (2.4.0)\n",
            "Requirement already satisfied: certifi>=2017.4.17 in /usr/local/lib/python3.11/dist-packages (from requests<3,>=2->langchain) (2025.4.26)\n",
            "Requirement already satisfied: greenlet>=1 in /usr/local/lib/python3.11/dist-packages (from SQLAlchemy<3,>=1.4->langchain) (3.2.2)\n",
            "Requirement already satisfied: anyio in /usr/local/lib/python3.11/dist-packages (from httpx<1,>=0.23.0->langsmith<0.4,>=0.1.17->langchain) (4.9.0)\n",
            "Requirement already satisfied: httpcore==1.* in /usr/local/lib/python3.11/dist-packages (from httpx<1,>=0.23.0->langsmith<0.4,>=0.1.17->langchain) (1.0.9)\n",
            "Requirement already satisfied: h11>=0.16 in /usr/local/lib/python3.11/dist-packages (from httpcore==1.*->httpx<1,>=0.23.0->langsmith<0.4,>=0.1.17->langchain) (0.16.0)\n",
            "Requirement already satisfied: jsonpointer>=1.9 in /usr/local/lib/python3.11/dist-packages (from jsonpatch<2.0,>=1.33->langchain-core<1.0.0,>=0.3.58->langchain) (3.0.0)\n",
            "Requirement already satisfied: mypy-extensions>=0.3.0 in /usr/local/lib/python3.11/dist-packages (from typing-inspect<1,>=0.4.0->dataclasses-json<0.7,>=0.5.7->langchain-community) (1.1.0)\n",
            "Requirement already satisfied: sniffio>=1.1 in /usr/local/lib/python3.11/dist-packages (from anyio->httpx<1,>=0.23.0->langsmith<0.4,>=0.1.17->langchain) (1.3.1)\n",
            "Requirement already satisfied: sentence-transformers in /usr/local/lib/python3.11/dist-packages (4.1.0)\n",
            "Collecting pinecone\n",
            "  Using cached pinecone-7.0.2-py3-none-any.whl.metadata (9.5 kB)\n",
            "Requirement already satisfied: transformers<5.0.0,>=4.41.0 in /usr/local/lib/python3.11/dist-packages (from sentence-transformers) (4.52.4)\n",
            "Requirement already satisfied: tqdm in /usr/local/lib/python3.11/dist-packages (from sentence-transformers) (4.67.1)\n",
            "Requirement already satisfied: torch>=1.11.0 in /usr/local/lib/python3.11/dist-packages (from sentence-transformers) (2.6.0+cu124)\n",
            "Requirement already satisfied: scikit-learn in /usr/local/lib/python3.11/dist-packages (from sentence-transformers) (1.6.1)\n",
            "Requirement already satisfied: scipy in /usr/local/lib/python3.11/dist-packages (from sentence-transformers) (1.15.3)\n",
            "Requirement already satisfied: huggingface-hub>=0.20.0 in /usr/local/lib/python3.11/dist-packages (from sentence-transformers) (0.32.4)\n",
            "Requirement already satisfied: Pillow in /usr/local/lib/python3.11/dist-packages (from sentence-transformers) (11.2.1)\n",
            "Requirement already satisfied: typing_extensions>=4.5.0 in /usr/local/lib/python3.11/dist-packages (from sentence-transformers) (4.14.0)\n",
            "Requirement already satisfied: certifi>=2019.11.17 in /usr/local/lib/python3.11/dist-packages (from pinecone) (2025.4.26)\n",
            "Requirement already satisfied: pinecone-plugin-assistant<2.0.0,>=1.6.0 in /usr/local/lib/python3.11/dist-packages (from pinecone) (1.7.0)\n",
            "Requirement already satisfied: pinecone-plugin-interface<0.0.8,>=0.0.7 in /usr/local/lib/python3.11/dist-packages (from pinecone) (0.0.7)\n",
            "Requirement already satisfied: python-dateutil>=2.5.3 in /usr/local/lib/python3.11/dist-packages (from pinecone) (2.9.0.post0)\n",
            "Requirement already satisfied: urllib3>=1.26.0 in /usr/local/lib/python3.11/dist-packages (from pinecone) (2.4.0)\n",
            "Requirement already satisfied: filelock in /usr/local/lib/python3.11/dist-packages (from huggingface-hub>=0.20.0->sentence-transformers) (3.18.0)\n",
            "Requirement already satisfied: fsspec>=2023.5.0 in /usr/local/lib/python3.11/dist-packages (from huggingface-hub>=0.20.0->sentence-transformers) (2025.3.2)\n",
            "Requirement already satisfied: packaging>=20.9 in /usr/local/lib/python3.11/dist-packages (from huggingface-hub>=0.20.0->sentence-transformers) (24.2)\n",
            "Requirement already satisfied: pyyaml>=5.1 in /usr/local/lib/python3.11/dist-packages (from huggingface-hub>=0.20.0->sentence-transformers) (6.0.2)\n",
            "Requirement already satisfied: requests in /usr/local/lib/python3.11/dist-packages (from huggingface-hub>=0.20.0->sentence-transformers) (2.32.3)\n",
            "Requirement already satisfied: hf-xet<2.0.0,>=1.1.2 in /usr/local/lib/python3.11/dist-packages (from huggingface-hub>=0.20.0->sentence-transformers) (1.1.2)\n",
            "Requirement already satisfied: six>=1.5 in /usr/local/lib/python3.11/dist-packages (from python-dateutil>=2.5.3->pinecone) (1.17.0)\n",
            "Requirement already satisfied: networkx in /usr/local/lib/python3.11/dist-packages (from torch>=1.11.0->sentence-transformers) (3.5)\n",
            "Requirement already satisfied: jinja2 in /usr/local/lib/python3.11/dist-packages (from torch>=1.11.0->sentence-transformers) (3.1.6)\n",
            "Requirement already satisfied: nvidia-cuda-nvrtc-cu12==12.4.127 in /usr/local/lib/python3.11/dist-packages (from torch>=1.11.0->sentence-transformers) (12.4.127)\n",
            "Requirement already satisfied: nvidia-cuda-runtime-cu12==12.4.127 in /usr/local/lib/python3.11/dist-packages (from torch>=1.11.0->sentence-transformers) (12.4.127)\n",
            "Requirement already satisfied: nvidia-cuda-cupti-cu12==12.4.127 in /usr/local/lib/python3.11/dist-packages (from torch>=1.11.0->sentence-transformers) (12.4.127)\n",
            "Requirement already satisfied: nvidia-cudnn-cu12==9.1.0.70 in /usr/local/lib/python3.11/dist-packages (from torch>=1.11.0->sentence-transformers) (9.1.0.70)\n",
            "Requirement already satisfied: nvidia-cublas-cu12==12.4.5.8 in /usr/local/lib/python3.11/dist-packages (from torch>=1.11.0->sentence-transformers) (12.4.5.8)\n",
            "Requirement already satisfied: nvidia-cufft-cu12==11.2.1.3 in /usr/local/lib/python3.11/dist-packages (from torch>=1.11.0->sentence-transformers) (11.2.1.3)\n",
            "Requirement already satisfied: nvidia-curand-cu12==10.3.5.147 in /usr/local/lib/python3.11/dist-packages (from torch>=1.11.0->sentence-transformers) (10.3.5.147)\n",
            "Requirement already satisfied: nvidia-cusolver-cu12==11.6.1.9 in /usr/local/lib/python3.11/dist-packages (from torch>=1.11.0->sentence-transformers) (11.6.1.9)\n",
            "Requirement already satisfied: nvidia-cusparse-cu12==12.3.1.170 in /usr/local/lib/python3.11/dist-packages (from torch>=1.11.0->sentence-transformers) (12.3.1.170)\n",
            "Requirement already satisfied: nvidia-cusparselt-cu12==0.6.2 in /usr/local/lib/python3.11/dist-packages (from torch>=1.11.0->sentence-transformers) (0.6.2)\n",
            "Requirement already satisfied: nvidia-nccl-cu12==2.21.5 in /usr/local/lib/python3.11/dist-packages (from torch>=1.11.0->sentence-transformers) (2.21.5)\n",
            "Requirement already satisfied: nvidia-nvtx-cu12==12.4.127 in /usr/local/lib/python3.11/dist-packages (from torch>=1.11.0->sentence-transformers) (12.4.127)\n",
            "Requirement already satisfied: nvidia-nvjitlink-cu12==12.4.127 in /usr/local/lib/python3.11/dist-packages (from torch>=1.11.0->sentence-transformers) (12.4.127)\n",
            "Requirement already satisfied: triton==3.2.0 in /usr/local/lib/python3.11/dist-packages (from torch>=1.11.0->sentence-transformers) (3.2.0)\n",
            "Requirement already satisfied: sympy==1.13.1 in /usr/local/lib/python3.11/dist-packages (from torch>=1.11.0->sentence-transformers) (1.13.1)\n",
            "Requirement already satisfied: mpmath<1.4,>=1.1.0 in /usr/local/lib/python3.11/dist-packages (from sympy==1.13.1->torch>=1.11.0->sentence-transformers) (1.3.0)\n",
            "Requirement already satisfied: numpy>=1.17 in /usr/local/lib/python3.11/dist-packages (from transformers<5.0.0,>=4.41.0->sentence-transformers) (1.26.4)\n",
            "Requirement already satisfied: regex!=2019.12.17 in /usr/local/lib/python3.11/dist-packages (from transformers<5.0.0,>=4.41.0->sentence-transformers) (2024.11.6)\n",
            "Requirement already satisfied: tokenizers<0.22,>=0.21 in /usr/local/lib/python3.11/dist-packages (from transformers<5.0.0,>=4.41.0->sentence-transformers) (0.21.1)\n",
            "Requirement already satisfied: safetensors>=0.4.3 in /usr/local/lib/python3.11/dist-packages (from transformers<5.0.0,>=4.41.0->sentence-transformers) (0.5.3)\n",
            "Requirement already satisfied: joblib>=1.2.0 in /usr/local/lib/python3.11/dist-packages (from scikit-learn->sentence-transformers) (1.5.1)\n",
            "Requirement already satisfied: threadpoolctl>=3.1.0 in /usr/local/lib/python3.11/dist-packages (from scikit-learn->sentence-transformers) (3.6.0)\n",
            "Requirement already satisfied: charset-normalizer<4,>=2 in /usr/local/lib/python3.11/dist-packages (from requests->huggingface-hub>=0.20.0->sentence-transformers) (3.4.2)\n",
            "Requirement already satisfied: idna<4,>=2.5 in /usr/local/lib/python3.11/dist-packages (from requests->huggingface-hub>=0.20.0->sentence-transformers) (3.10)\n",
            "Requirement already satisfied: MarkupSafe>=2.0 in /usr/local/lib/python3.11/dist-packages (from jinja2->torch>=1.11.0->sentence-transformers) (3.0.2)\n",
            "Using cached pinecone-7.0.2-py3-none-any.whl (516 kB)\n",
            "Installing collected packages: pinecone\n",
            "Successfully installed pinecone-7.0.2\n"
          ]
        }
      ],
      "source": [
        "!pip install -U langchain langchain-community langchain-huggingface\n",
        "!pip install -U sentence-transformers pinecone"
      ]
    },
    {
      "cell_type": "markdown",
      "metadata": {
        "id": "PZIakrFgJaKy"
      },
      "source": [
        "Self-Querying Retriever"
      ]
    },
    {
      "cell_type": "code",
      "execution_count": null,
      "metadata": {
        "id": "S3Q5uVtpYQ9X"
      },
      "outputs": [],
      "source": [
        "import os\n",
        "os.environ[\"PINECONE_API_KEY\"] = \"your-key\"\n",
        "api_key = os.environ[\"PINECONE_API_KEY\"]"
      ]
    },
    {
      "cell_type": "code",
      "execution_count": null,
      "metadata": {
        "colab": {
          "base_uri": "https://localhost:8080/"
        },
        "id": "l7aEuoCVJF2K",
        "outputId": "46c20905-1bf6-43c8-84e7-c0996cf50af7"
      },
      "outputs": [
        {
          "name": "stdout",
          "output_type": "stream",
          "text": [
            "✅ Hugging Face login and LLM ready\n",
            "✅ Documents upserted to Pinecone!\n",
            "\n",
            "🔍 Query: Show me red wines with a rating above 95\n"
          ]
        }
      ],
      "source": [
        "# Imports\n",
        "# -----------------------------\n",
        "import uuid\n",
        "import os\n",
        "from pinecone import Pinecone, ServerlessSpec\n",
        "from langchain.schema import Document\n",
        "from langchain.embeddings.huggingface import HuggingFaceEmbeddings\n",
        "from langchain_huggingface import HuggingFaceEndpoint\n",
        "from huggingface_hub import login\n",
        "\n",
        "# -----------------------------\n",
        "# HuggingFace Login + LLM\n",
        "# -----------------------------\n",
        "login(token=\"your-key\")  # <-- Replace with your token\n",
        "llm = HuggingFaceEndpoint(\n",
        "    repo_id=\"mistralai/Mixtral-8x7B-Instruct-v0.1\",\n",
        "    temperature=0.6,\n",
        "    max_new_tokens=200,\n",
        ")\n",
        "print(\"✅ Hugging Face login and LLM ready\")\n",
        "\n",
        "# -----------------------------\n",
        "# Embeddings\n",
        "# -----------------------------\n",
        "embedder = HuggingFaceEmbeddings(model_name=\"sentence-transformers/all-MiniLM-L6-v2\")\n",
        "\n",
        "# -----------------------------\n",
        "# Pinecone Init\n",
        "# -----------------------------\n",
        "pc = Pinecone(api_key=\"your-key\")  # <-- Replace with your Pinecone API key\n",
        "INDEX_NAME = \"wine-index\"\n",
        "dimension = 384\n",
        "\n",
        "if INDEX_NAME in [i['name'] for i in pc.list_indexes().indexes]:\n",
        "    pc.delete_index(INDEX_NAME)\n",
        "\n",
        "pc.create_index(\n",
        "    name=INDEX_NAME,\n",
        "    dimension=dimension,\n",
        "    metric=\"cosine\",\n",
        "    spec=ServerlessSpec(cloud=\"aws\", region=\"us-east-1\")\n",
        ")\n",
        "\n",
        "# Target the index\n",
        "index = pc.Index(INDEX_NAME)\n",
        "\n",
        "# -----------------------------\n",
        "# Documents\n",
        "# -----------------------------\n",
        "docs = [\n",
        "    Document(\n",
        "        page_content=\"Complex, layered, rich red with dark fruit flavors\",\n",
        "        metadata={\"name\":\"Opus One\", \"year\": 2018, \"rating\": 96, \"grape\": \"Cabernet Sauvignon\", \"color\":\"red\", \"country\":\"USA\"},\n",
        "    ),\n",
        "    Document(\n",
        "        page_content=\"Luxurious, sweet wine with flavors of honey, apricot, and peach\",\n",
        "        metadata={\"name\":\"Château d'Yquem\", \"year\": 2015, \"rating\": 98, \"grape\": \"Sémillon\", \"color\":\"white\", \"country\":\"France\"},\n",
        "    ),\n",
        "    Document(\n",
        "        page_content=\"Full-bodied red with notes of black fruit and spice\",\n",
        "        metadata={\"name\":\"Penfolds Grange\", \"year\": 2017, \"rating\": 97, \"grape\": \"Shiraz\", \"color\":\"red\", \"country\":\"Australia\"},\n",
        "    ),\n",
        "    Document(\n",
        "        page_content=\"Elegant, balanced red with herbal and berry nuances\",\n",
        "        metadata={\"name\":\"Sassicaia\", \"year\": 2016, \"rating\": 95, \"grape\": \"Cabernet Franc\", \"color\":\"red\", \"country\":\"Italy\"},\n",
        "    ),\n",
        "    Document(\n",
        "        page_content=\"Highly sought-after Pinot Noir with red fruit and earthy notes\",\n",
        "        metadata={\"name\":\"Domaine de la Romanée-Conti\", \"year\": 2018, \"rating\": 100, \"grape\": \"Pinot Noir\", \"color\":\"red\", \"country\":\"France\"},\n",
        "    ),\n",
        "    Document(\n",
        "        page_content=\"Crisp white with tropical fruit and citrus flavors\",\n",
        "        metadata={\"name\":\"Cloudy Bay\", \"year\": 2021, \"rating\": 92, \"grape\": \"Sauvignon Blanc\", \"color\":\"white\", \"country\":\"New Zealand\"},\n",
        "    ),\n",
        "    Document(\n",
        "        page_content=\"Rich, complex Champagne with notes of brioche and citrus\",\n",
        "        metadata={\"name\":\"Krug Grande Cuvée\", \"year\": 2010, \"rating\": 93, \"grape\": \"Chardonnay blend\", \"color\":\"sparkling\", \"country\":\"New Zealand\"},\n",
        "    ),\n",
        "    Document(\n",
        "        page_content=\"Intense, dark fruit flavors with hints of chocolate\",\n",
        "        metadata={\"name\":\"Caymus Special Selection\", \"year\": 2018, \"rating\": 96, \"grape\": \"Cabernet Sauvignon\", \"color\":\"red\", \"country\":\"USA\"},\n",
        "    ),\n",
        "    Document(\n",
        "        page_content=\"Exotic, aromatic white with stone fruit and floral notes\",\n",
        "        metadata={\"name\":\"Jermann Vintage Tunina\", \"year\": 2020, \"rating\": 91, \"grape\": \"Sauvignon Blanc blend\", \"color\":\"white\", \"country\":\"Italy\"},\n",
        "    ),\n",
        "]\n",
        "\n",
        "# -----------------------------\n",
        "# Prepare records and Upsert\n",
        "# -----------------------------\n",
        "records = []\n",
        "for doc in docs:\n",
        "    vector = embedder.embed_query(doc.page_content)\n",
        "    doc_id = str(uuid.uuid4())\n",
        "    record = {\n",
        "        \"id\": doc_id,\n",
        "        \"values\": vector,\n",
        "        \"metadata\": {\n",
        "            \"text\": doc.page_content,\n",
        "            **doc.metadata\n",
        "        }\n",
        "    }\n",
        "    records.append(record)\n",
        "\n",
        "index.upsert(vectors=records, namespace=\"wine-namespace\")\n",
        "\n",
        "print(\"✅ Documents upserted to Pinecone!\")\n",
        "# -----------------------------\n",
        "# Querying manually (example)\n",
        "# -----------------------------\n",
        "query = \"Show me red wines with a rating above 95\"\n",
        "query_vector = embedder.embed_query(query)\n",
        "\n",
        "# Search\n",
        "results = index.query(\n",
        "    vector=query_vector,\n",
        "    top_k=5,\n",
        "    include_metadata=True,\n",
        "    namespace=\"wine-namespace\"\n",
        ")\n",
        "\n",
        "# Display Results\n",
        "print(\"\\n🔍 Query:\", query)\n",
        "for match in results.matches:\n",
        "    metadata = match.metadata\n",
        "    print(f\"- {metadata.get('name')} ({metadata.get('year')}) — {metadata.get('text')}\")"
      ]
    },
    {
      "cell_type": "code",
      "execution_count": 7,
      "metadata": {
        "colab": {
          "base_uri": "https://localhost:8080/"
        },
        "id": "VD7CBst_JF5S",
        "outputId": "d37cdcee-e215-4ee8-cc38-a4d9832e2529"
      },
      "outputs": [
        {
          "name": "stdout",
          "output_type": "stream",
          "text": [
            "\n",
            "🔍 Query: Show me red wines with a rating above 95\n",
            "- Domaine de la Romanée-Conti (2018.0) — Highly sought-after Pinot Noir with red fruit and earthy notes\n",
            "- Opus One (2018.0) — Complex, layered, rich red with dark fruit flavors\n",
            "- Penfolds Grange (2017.0) — Full-bodied red with notes of black fruit and spice\n",
            "- Caymus Special Selection (2018.0) — Intense, dark fruit flavors with hints of chocolate\n"
          ]
        }
      ],
      "source": [
        "import uuid\n",
        "\n",
        "# Step 1: Embed the query\n",
        "query = \"Show me red wines with a rating above 95\"\n",
        "query_vector = embedder.embed_query(query)\n",
        "\n",
        "# Step 2: Query Pinecone\n",
        "response = index.query(\n",
        "    vector=query_vector,\n",
        "    top_k=10,\n",
        "    include_metadata=True,\n",
        "    namespace=\"wine-namespace\"\n",
        ")\n",
        "\n",
        "# Step 3: Filter results manually\n",
        "filtered_results = []\n",
        "for match in response['matches']:\n",
        "    metadata = match['metadata']\n",
        "    if (\n",
        "        metadata.get(\"color\") == \"red\" and\n",
        "        metadata.get(\"rating\", 0) > 95\n",
        "    ):\n",
        "        filtered_results.append(metadata)\n",
        "\n",
        "# Step 4: Print results\n",
        "print(\"\\n🔍 Query:\", query)\n",
        "if not filtered_results:\n",
        "    print(\"No matching wines found.\")\n",
        "else:\n",
        "    for r in filtered_results:\n",
        "        print(f\"- {r['name']} ({r['year']}) — {r['text']}\")\n"
      ]
    },
    {
      "cell_type": "code",
      "execution_count": 9,
      "metadata": {
        "id": "BAjENWikboIE"
      },
      "outputs": [],
      "source": [
        "# Delete the index\n",
        "pc.delete_index(\"wine-index\")"
      ]
    }
  ],
  "metadata": {
    "colab": {
      "provenance": []
    },
    "kernelspec": {
      "display_name": "Python 3",
      "name": "python3"
    },
    "language_info": {
      "name": "python"
    }
  },
  "nbformat": 4,
  "nbformat_minor": 0
}
