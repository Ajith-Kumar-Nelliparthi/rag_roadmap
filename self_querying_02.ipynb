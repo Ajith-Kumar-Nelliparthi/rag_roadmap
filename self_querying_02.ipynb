{
  "cells": [
    {
      "cell_type": "code",
      "execution_count": 1,
      "metadata": {
        "colab": {
          "base_uri": "https://localhost:8080/"
        },
        "id": "VZ4uy_u5KK4P",
        "outputId": "0974a324-b79f-4a02-f841-c646e15cf7ef"
      },
      "outputs": [
        {
          "name": "stdout",
          "output_type": "stream",
          "text": [
            "  Preparing metadata (setup.py) ... \u001b[?25l\u001b[?25hdone\n",
            "\u001b[2K     \u001b[90m━━━━━━━━━━━━━━━━━━━━━━━━━━━━━━━━━━━━━━━━\u001b[0m \u001b[32m67.3/67.3 kB\u001b[0m \u001b[31m3.0 MB/s\u001b[0m eta \u001b[36m0:00:00\u001b[0m\n",
            "\u001b[?25h  Installing build dependencies ... \u001b[?25l\u001b[?25hdone\n",
            "  Getting requirements to build wheel ... \u001b[?25l\u001b[?25hdone\n",
            "  Preparing metadata (pyproject.toml) ... \u001b[?25l\u001b[?25hdone\n",
            "\u001b[2K   \u001b[90m━━━━━━━━━━━━━━━━━━━━━━━━━━━━━━━━━━━━━━━━\u001b[0m \u001b[32m19.3/19.3 MB\u001b[0m \u001b[31m95.6 MB/s\u001b[0m eta \u001b[36m0:00:00\u001b[0m\n",
            "\u001b[2K   \u001b[90m━━━━━━━━━━━━━━━━━━━━━━━━━━━━━━━━━━━━━━━━\u001b[0m \u001b[32m94.9/94.9 kB\u001b[0m \u001b[31m7.9 MB/s\u001b[0m eta \u001b[36m0:00:00\u001b[0m\n",
            "\u001b[2K   \u001b[90m━━━━━━━━━━━━━━━━━━━━━━━━━━━━━━━━━━━━━━━━\u001b[0m \u001b[32m111.0/111.0 kB\u001b[0m \u001b[31m8.5 MB/s\u001b[0m eta \u001b[36m0:00:00\u001b[0m\n",
            "\u001b[2K   \u001b[90m━━━━━━━━━━━━━━━━━━━━━━━━━━━━━━━━━━━━━━━━\u001b[0m \u001b[32m2.5/2.5 MB\u001b[0m \u001b[31m82.9 MB/s\u001b[0m eta \u001b[36m0:00:00\u001b[0m\n",
            "\u001b[2K   \u001b[90m━━━━━━━━━━━━━━━━━━━━━━━━━━━━━━━━━━━━━━━━\u001b[0m \u001b[32m284.2/284.2 kB\u001b[0m \u001b[31m23.4 MB/s\u001b[0m eta \u001b[36m0:00:00\u001b[0m\n",
            "\u001b[2K   \u001b[90m━━━━━━━━━━━━━━━━━━━━━━━━━━━━━━━━━━━━━━━━\u001b[0m \u001b[32m1.9/1.9 MB\u001b[0m \u001b[31m74.5 MB/s\u001b[0m eta \u001b[36m0:00:00\u001b[0m\n",
            "\u001b[2K   \u001b[90m━━━━━━━━━━━━━━━━━━━━━━━━━━━━━━━━━━━━━━━━\u001b[0m \u001b[32m101.6/101.6 kB\u001b[0m \u001b[31m7.6 MB/s\u001b[0m eta \u001b[36m0:00:00\u001b[0m\n",
            "\u001b[2K   \u001b[90m━━━━━━━━━━━━━━━━━━━━━━━━━━━━━━━━━━━━━━━━\u001b[0m \u001b[32m16.4/16.4 MB\u001b[0m \u001b[31m87.3 MB/s\u001b[0m eta \u001b[36m0:00:00\u001b[0m\n",
            "\u001b[2K   \u001b[90m━━━━━━━━━━━━━━━━━━━━━━━━━━━━━━━━━━━━━━━━\u001b[0m \u001b[32m65.8/65.8 kB\u001b[0m \u001b[31m4.5 MB/s\u001b[0m eta \u001b[36m0:00:00\u001b[0m\n",
            "\u001b[2K   \u001b[90m━━━━━━━━━━━━━━━━━━━━━━━━━━━━━━━━━━━━━━━━\u001b[0m \u001b[32m55.7/55.7 kB\u001b[0m \u001b[31m4.0 MB/s\u001b[0m eta \u001b[36m0:00:00\u001b[0m\n",
            "\u001b[2K   \u001b[90m━━━━━━━━━━━━━━━━━━━━━━━━━━━━━━━━━━━━━━━━\u001b[0m \u001b[32m196.2/196.2 kB\u001b[0m \u001b[31m14.1 MB/s\u001b[0m eta \u001b[36m0:00:00\u001b[0m\n",
            "\u001b[2K   \u001b[90m━━━━━━━━━━━━━━━━━━━━━━━━━━━━━━━━━━━━━━━━\u001b[0m \u001b[32m118.5/118.5 kB\u001b[0m \u001b[31m8.7 MB/s\u001b[0m eta \u001b[36m0:00:00\u001b[0m\n",
            "\u001b[2K   \u001b[90m━━━━━━━━━━━━━━━━━━━━━━━━━━━━━━━━━━━━━━━━\u001b[0m \u001b[32m100.0/100.0 kB\u001b[0m \u001b[31m7.3 MB/s\u001b[0m eta \u001b[36m0:00:00\u001b[0m\n",
            "\u001b[2K   \u001b[90m━━━━━━━━━━━━━━━━━━━━━━━━━━━━━━━━━━━━━━━━\u001b[0m \u001b[32m44.4/44.4 kB\u001b[0m \u001b[31m3.2 MB/s\u001b[0m eta \u001b[36m0:00:00\u001b[0m\n",
            "\u001b[2K   \u001b[90m━━━━━━━━━━━━━━━━━━━━━━━━━━━━━━━━━━━━━━━━\u001b[0m \u001b[32m459.8/459.8 kB\u001b[0m \u001b[31m27.7 MB/s\u001b[0m eta \u001b[36m0:00:00\u001b[0m\n",
            "\u001b[2K   \u001b[90m━━━━━━━━━━━━━━━━━━━━━━━━━━━━━━━━━━━━━━━━\u001b[0m \u001b[32m50.9/50.9 kB\u001b[0m \u001b[31m3.4 MB/s\u001b[0m eta \u001b[36m0:00:00\u001b[0m\n",
            "\u001b[2K   \u001b[90m━━━━━━━━━━━━━━━━━━━━━━━━━━━━━━━━━━━━━━━━\u001b[0m \u001b[32m71.5/71.5 kB\u001b[0m \u001b[31m5.3 MB/s\u001b[0m eta \u001b[36m0:00:00\u001b[0m\n",
            "\u001b[2K   \u001b[90m━━━━━━━━━━━━━━━━━━━━━━━━━━━━━━━━━━━━━━━━\u001b[0m \u001b[32m4.0/4.0 MB\u001b[0m \u001b[31m77.3 MB/s\u001b[0m eta \u001b[36m0:00:00\u001b[0m\n",
            "\u001b[2K   \u001b[90m━━━━━━━━━━━━━━━━━━━━━━━━━━━━━━━━━━━━━━━━\u001b[0m \u001b[32m453.1/453.1 kB\u001b[0m \u001b[31m28.0 MB/s\u001b[0m eta \u001b[36m0:00:00\u001b[0m\n",
            "\u001b[2K   \u001b[90m━━━━━━━━━━━━━━━━━━━━━━━━━━━━━━━━━━━━━━━━\u001b[0m \u001b[32m46.0/46.0 kB\u001b[0m \u001b[31m3.1 MB/s\u001b[0m eta \u001b[36m0:00:00\u001b[0m\n",
            "\u001b[2K   \u001b[90m━━━━━━━━━━━━━━━━━━━━━━━━━━━━━━━━━━━━━━━━\u001b[0m \u001b[32m86.8/86.8 kB\u001b[0m \u001b[31m6.3 MB/s\u001b[0m eta \u001b[36m0:00:00\u001b[0m\n",
            "\u001b[?25h  Building wheel for google-search-results (setup.py) ... \u001b[?25l\u001b[?25hdone\n",
            "  Building wheel for pypika (pyproject.toml) ... \u001b[?25l\u001b[?25hdone\n"
          ]
        }
      ],
      "source": [
        "!pip -q install langchain huggingface_hub openai google-search-results tiktoken chromadb lark langchain-community langchain-huggingface"
      ]
    },
    {
      "cell_type": "code",
      "execution_count": null,
      "metadata": {
        "id": "vJugMahFt_Pe"
      },
      "outputs": [],
      "source": [
        "import os\n",
        "import openai\n",
        "\n",
        "openai.api_key = \"your-api-key-here\"  # Replace with your actual OpenAI API key\n",
        "openai.api_base = \"https://api.groq.com/openai/v1\""
      ]
    },
    {
      "cell_type": "code",
      "execution_count": 6,
      "metadata": {
        "colab": {
          "base_uri": "https://localhost:8080/",
          "height": 528,
          "referenced_widgets": [
            "0892e08d8daf4bafa141783754f55f7d",
            "45ee2471c07640f59c78d40363b3d0d9",
            "f13769580dbd4ff7a0397cce528042b6",
            "1a37aab980d74dedbd49851581cfc398",
            "4ff41b079839427290bd855dde180b35",
            "d79dcbc061e641aaa6483acd4c2803c9",
            "ed808e64c40d4e59abb9a108b580c50b",
            "104e44af406d467c97b639d1555e8bf8",
            "94c12f8bd24a4ababa226c1d8fe51667",
            "1bcddf1f94654cb7b8349b06c543bceb",
            "bd08a029c9ff45a2ae245c9cdbf21baf",
            "8c57ffc2e4d64d62940787be910ee2f4",
            "279ec385473b4de58ca086da9a594633",
            "d42697e287b743c49565a4fa40e989ec",
            "868f87b3d13446659dcb697675bb5854",
            "c0c547247f3d4cfaa6f15f929b0f9e0b",
            "7f478ef5bc4149a4942e43bea80fef15",
            "94941c553b404d029f176f6f308e26ad",
            "4bfb87efd30f4bc9855096769804e64c",
            "d1bb76a8028245cd9e42d0557baad0bb",
            "722a7d413f144632932b6f915bd3dfe9",
            "c9b95a4d32bd4cde849f86871cd366b3",
            "c960759967c648bcb12cd2d2271300cd",
            "88da55e18561416cbea405b0e04bf5cb",
            "94e7a99d7a264d9a8b2a8140dc04ef50",
            "d5ebf310cc7f40c796262e65b1eab789",
            "bfc95717e5cf4ea69a4a5ca6a32565df",
            "494b3ac86359442eb60bdf4b4f6e00bd",
            "bbcc002fce064f7d88972eb862f2bd45",
            "e8c0179d6dd443e9b57b83df8790881a",
            "15abea4dd57441c098e8b4ec663ed284",
            "a28997d3e8294693bc3aff50d463f7c7",
            "238b899f257b422f89f1cb210cb3417b",
            "b557ec7912fe4829a994f3c31344479f",
            "572531498c5d4e929d8b3cfb64518049",
            "c8096440f87340869b4e825c07c971c6",
            "5b277eea31464519a3eea726fc0fa4e8",
            "a522583583f044f7a065c9bdb155d595",
            "73586cbc622c48a2a2545f27bf94707f",
            "080730cf2b74482883be42ba1d7e1379",
            "e2715118425e4813b3dea66687e12453",
            "5670d039182e42af9ebfa6793a16e94c",
            "119c483c7b084c14ad16c034844b70d5",
            "ae8977fb8ada47718292a0555f9ffdfa",
            "1dafddba74fd4b9fb55e30107ab12c51",
            "e4322979ed6a4a30a4c6f60c18a735f4",
            "c51c303657ab4fa085d872e365e3e129",
            "764211fb47f2470f8ff0a92b1f8d27ca",
            "18e35a1ae94d40e1885af8a98a517ceb",
            "95a5d6953a9b4454b81c95fd990d9165",
            "955c3e38c14e43c289cce9ffa9aec1a6",
            "3ca379a08e5b4910bb264e8a6d944128",
            "5e59f445eea04a2a9f36f745b858b95d",
            "722b06761b6642b39aa9c41b5292255c",
            "a5625aa9e33a459aaeec7fc252dca8dc",
            "1dcb0f3dc60844d790767a72caff9c02",
            "7263224429aa4eae804953c1c3000215",
            "7c295efc8ff448ccbb44f44324d15e50",
            "69727f7205be4a649a2fb29ef37d49f8",
            "4aacd40010cf47718395b8886f941061",
            "8a694cd602714d949debe20cc522e893",
            "a710a86ac3904a4bad45a9701abe7307",
            "557f5ab5f94846028b6f121a16121a62",
            "abbe9246b362486080e6780de2f729f7",
            "37e831a4ff4e45e6a37bd57e81a4f27f",
            "287195d1496545adbbd91272dca6c1e6",
            "015cde4e39574cd68e42eec6ec00ef64",
            "44dbe2b0f92841eaae50ecf615ad7a82",
            "099f4cf55ef047c1972defe30c09501f",
            "93e42f1166a94e2ab93670ce0af9b93c",
            "a30ad5187af44e629b57d4c9bdb4ed39",
            "cf66f0da359d436d962c5740187f530c",
            "eca32bf3ced447ad9778ffb62fd9b812",
            "1f47d754fc234be0ba756194ba578264",
            "f9fc8d0472d54da592dfdb54e730a82b",
            "5aa1d83d0c8a4aeaae5a22e926c9891a",
            "2d1460ac6bc2476e800011b5b6324fa4",
            "a7917e69c4fb4fd2b0966a3fcdaaa123",
            "31f3191bf806407d8a1553e3f874c417",
            "588956506cc244478fcb33844e07f85a",
            "0259e71ed8c443f58d4d4f76b6972df1",
            "592f862acd9c40448fbe8f5eb5e4ba6c",
            "5a3489e109934c81b3c5a70b517fe493",
            "61fa0b11a0ef4a78ba91b5a891d51d7d",
            "da9965d28ca94849996b5c7e282cf62d",
            "2c92afb346d1424c9e4f8378856f3a4d",
            "2536dd4ee665407981327dc42c1b05bc",
            "dc2ec45ea79a4a6d86fc7066aecd921e",
            "c1e1248e475849bfb7c23a2659c331b8",
            "37d4e3d8d4b943018657a87cd7db78d0",
            "8c9ac3a73e714201841d1cd2e1fd193c",
            "e407889fe52d404c82a70a8d916df52f",
            "87989ca02d694830a10e4197ceb6bdf2",
            "ddebf10770d34eea94652a8d5a10bee6",
            "918f8b4d62ba4f2ca0130d21a9883e2b",
            "7e83b24a11344b94a280b1b3017f0f94",
            "c085b85512bd4918ad97368ac5573706",
            "603d515ad1544901bdfbd9df90f901f5",
            "796e783328794b3a96a55bdd23b39d34",
            "b1d1bdea531c40da9c5a6929167a9a83",
            "8a76a9a81e4747d3a10004aa90964e30",
            "97c50cf9c3564e19b570d9a810cef425",
            "a9593f8831f342a6a3ac58712f95b18b",
            "f9c80d7a9bc34fd19f2b0aa5b4e4804b",
            "f20f35cc83e94c03a4e032e718595052",
            "504c59622e024fd7b6c9a76fe576e523",
            "16708ef5a2ca4db08049912bc41df8bb",
            "f39f25e873a64915a8139f78ead9c7d3",
            "c61acc0984a2462080467662e6888510",
            "184ccfed616c4d20b8b53abc0a96e191",
            "efd7499eeb24472fabf337e34a9c9bf0",
            "aa5a74fb865f413e9b71966816fbf83f",
            "364919b98c994ccb957f5397d4ba47bb",
            "eb8faa8ce0e041a6bca4f1dd19a60c17",
            "bd57f82542364c55a8559e4a58e12030",
            "f766233879654c628bfedb4fe2b897b5",
            "ad945a5b824049bd8d27e008410154a7",
            "2064ac97a5ab41a298c06b3c988c99ae",
            "d76137ca278342cfbfdebab3ae6487df",
            "4f2bc1bd06bb41e4b0341919155cdac9",
            "1dc8ade5d0cf4a16885a253d436fda94"
          ]
        },
        "id": "2QSkzmScKj7O",
        "outputId": "690907bd-4e13-4355-87b8-6699c6a28ae5"
      },
      "outputs": [
        {
          "name": "stderr",
          "output_type": "stream",
          "text": [
            "<ipython-input-6-40405441>:9: LangChainDeprecationWarning: The class `HuggingFaceEmbeddings` was deprecated in LangChain 0.2.2 and will be removed in 1.0. An updated version of the class exists in the :class:`~langchain-huggingface package and should be used instead. To use it run `pip install -U :class:`~langchain-huggingface` and import as `from :class:`~langchain_huggingface import HuggingFaceEmbeddings``.\n",
            "  embeddings = HuggingFaceEmbeddings(model_name=\"sentence-transformers/all-MiniLM-L6-v2\")\n",
            "/usr/local/lib/python3.11/dist-packages/huggingface_hub/utils/_auth.py:94: UserWarning: \n",
            "The secret `HF_TOKEN` does not exist in your Colab secrets.\n",
            "To authenticate with the Hugging Face Hub, create a token in your settings tab (https://huggingface.co/settings/tokens), set it as secret in your Google Colab and restart your session.\n",
            "You will be able to reuse this secret in all of your notebooks.\n",
            "Please note that authentication is recommended but still optional to access public models or datasets.\n",
            "  warnings.warn(\n"
          ]
        },
        {
          "data": {
            "application/vnd.jupyter.widget-view+json": {
              "model_id": "0892e08d8daf4bafa141783754f55f7d",
              "version_major": 2,
              "version_minor": 0
            },
            "text/plain": [
              "modules.json:   0%|          | 0.00/349 [00:00<?, ?B/s]"
            ]
          },
          "metadata": {},
          "output_type": "display_data"
        },
        {
          "data": {
            "application/vnd.jupyter.widget-view+json": {
              "model_id": "8c57ffc2e4d64d62940787be910ee2f4",
              "version_major": 2,
              "version_minor": 0
            },
            "text/plain": [
              "config_sentence_transformers.json:   0%|          | 0.00/116 [00:00<?, ?B/s]"
            ]
          },
          "metadata": {},
          "output_type": "display_data"
        },
        {
          "data": {
            "application/vnd.jupyter.widget-view+json": {
              "model_id": "c960759967c648bcb12cd2d2271300cd",
              "version_major": 2,
              "version_minor": 0
            },
            "text/plain": [
              "README.md:   0%|          | 0.00/10.5k [00:00<?, ?B/s]"
            ]
          },
          "metadata": {},
          "output_type": "display_data"
        },
        {
          "data": {
            "application/vnd.jupyter.widget-view+json": {
              "model_id": "b557ec7912fe4829a994f3c31344479f",
              "version_major": 2,
              "version_minor": 0
            },
            "text/plain": [
              "sentence_bert_config.json:   0%|          | 0.00/53.0 [00:00<?, ?B/s]"
            ]
          },
          "metadata": {},
          "output_type": "display_data"
        },
        {
          "data": {
            "application/vnd.jupyter.widget-view+json": {
              "model_id": "1dafddba74fd4b9fb55e30107ab12c51",
              "version_major": 2,
              "version_minor": 0
            },
            "text/plain": [
              "config.json:   0%|          | 0.00/612 [00:00<?, ?B/s]"
            ]
          },
          "metadata": {},
          "output_type": "display_data"
        },
        {
          "data": {
            "application/vnd.jupyter.widget-view+json": {
              "model_id": "1dcb0f3dc60844d790767a72caff9c02",
              "version_major": 2,
              "version_minor": 0
            },
            "text/plain": [
              "model.safetensors:   0%|          | 0.00/90.9M [00:00<?, ?B/s]"
            ]
          },
          "metadata": {},
          "output_type": "display_data"
        },
        {
          "data": {
            "application/vnd.jupyter.widget-view+json": {
              "model_id": "015cde4e39574cd68e42eec6ec00ef64",
              "version_major": 2,
              "version_minor": 0
            },
            "text/plain": [
              "tokenizer_config.json:   0%|          | 0.00/350 [00:00<?, ?B/s]"
            ]
          },
          "metadata": {},
          "output_type": "display_data"
        },
        {
          "data": {
            "application/vnd.jupyter.widget-view+json": {
              "model_id": "a7917e69c4fb4fd2b0966a3fcdaaa123",
              "version_major": 2,
              "version_minor": 0
            },
            "text/plain": [
              "vocab.txt:   0%|          | 0.00/232k [00:00<?, ?B/s]"
            ]
          },
          "metadata": {},
          "output_type": "display_data"
        },
        {
          "data": {
            "application/vnd.jupyter.widget-view+json": {
              "model_id": "c1e1248e475849bfb7c23a2659c331b8",
              "version_major": 2,
              "version_minor": 0
            },
            "text/plain": [
              "tokenizer.json:   0%|          | 0.00/466k [00:00<?, ?B/s]"
            ]
          },
          "metadata": {},
          "output_type": "display_data"
        },
        {
          "data": {
            "application/vnd.jupyter.widget-view+json": {
              "model_id": "b1d1bdea531c40da9c5a6929167a9a83",
              "version_major": 2,
              "version_minor": 0
            },
            "text/plain": [
              "special_tokens_map.json:   0%|          | 0.00/112 [00:00<?, ?B/s]"
            ]
          },
          "metadata": {},
          "output_type": "display_data"
        },
        {
          "data": {
            "application/vnd.jupyter.widget-view+json": {
              "model_id": "efd7499eeb24472fabf337e34a9c9bf0",
              "version_major": 2,
              "version_minor": 0
            },
            "text/plain": [
              "config.json:   0%|          | 0.00/190 [00:00<?, ?B/s]"
            ]
          },
          "metadata": {},
          "output_type": "display_data"
        }
      ],
      "source": [
        "from langchain.schema import Document\n",
        "from langchain.embeddings.openai import OpenAIEmbeddings\n",
        "from langchain.vectorstores import Chroma\n",
        "import os\n",
        "\n",
        "\n",
        "from langchain.embeddings import HuggingFaceEmbeddings\n",
        "\n",
        "embeddings = HuggingFaceEmbeddings(model_name=\"sentence-transformers/all-MiniLM-L6-v2\")\n",
        "\n",
        "\n",
        "\n",
        "docs = [\n",
        "    Document(\n",
        "        page_content=\"Complex, layered, rich red with dark fruit flavors\",\n",
        "        metadata={\"name\":\"Opus One\", \"year\": 2018, \"rating\": 96, \"grape\": \"Cabernet Sauvignon\", \"color\":\"red\", \"country\":\"USA\"},\n",
        "    ),\n",
        "    Document(\n",
        "        page_content=\"Luxurious, sweet wine with flavors of honey, apricot, and peach\",\n",
        "        metadata={\"name\":\"Château d'Yquem\", \"year\": 2015, \"rating\": 98, \"grape\": \"Sémillon\", \"color\":\"white\", \"country\":\"France\"},\n",
        "    ),\n",
        "    Document(\n",
        "        page_content=\"Full-bodied red with notes of black fruit and spice\",\n",
        "        metadata={\"name\":\"Penfolds Grange\", \"year\": 2017, \"rating\": 97, \"grape\": \"Shiraz\", \"color\":\"red\", \"country\":\"Australia\"},\n",
        "    ),\n",
        "    Document(\n",
        "        page_content=\"Elegant, balanced red with herbal and berry nuances\",\n",
        "        metadata={\"name\":\"Sassicaia\", \"year\": 2016, \"rating\": 95, \"grape\": \"Cabernet Franc\", \"color\":\"red\", \"country\":\"Italy\"},\n",
        "    ),\n",
        "    Document(\n",
        "        page_content=\"Highly sought-after Pinot Noir with red fruit and earthy notes\",\n",
        "        metadata={\"name\":\"Domaine de la Romanée-Conti\", \"year\": 2018, \"rating\": 100, \"grape\": \"Pinot Noir\", \"color\":\"red\", \"country\":\"France\"},\n",
        "    ),\n",
        "    Document(\n",
        "        page_content=\"Crisp white with tropical fruit and citrus flavors\",\n",
        "        metadata={\"name\":\"Cloudy Bay\", \"year\": 2021, \"rating\": 92, \"grape\": \"Sauvignon Blanc\", \"color\":\"white\", \"country\":\"New Zealand\"},\n",
        "    ),\n",
        "    Document(\n",
        "        page_content=\"Rich, complex Champagne with notes of brioche and citrus\",\n",
        "        metadata={\"name\":\"Krug Grande Cuvée\", \"year\": 2010, \"rating\": 93, \"grape\": \"Chardonnay blend\", \"color\":\"sparkling\", \"country\":\"New Zealand\"},\n",
        "    ),\n",
        "    Document(\n",
        "        page_content=\"Intense, dark fruit flavors with hints of chocolate\",\n",
        "        metadata={\"name\":\"Caymus Special Selection\", \"year\": 2018, \"rating\": 96, \"grape\": \"Cabernet Sauvignon\", \"color\":\"red\", \"country\":\"USA\"},\n",
        "    ),\n",
        "    Document(\n",
        "        page_content=\"Exotic, aromatic white with stone fruit and floral notes\",\n",
        "        metadata={\"name\":\"Jermann Vintage Tunina\", \"year\": 2020, \"rating\": 91, \"grape\": \"Sauvignon Blanc blend\", \"color\":\"white\", \"country\":\"Italy\"},\n",
        "    ),\n",
        "]\n",
        "vectorstore = Chroma.from_documents(docs, embeddings)"
      ]
    },
    {
      "cell_type": "code",
      "execution_count": 7,
      "metadata": {
        "id": "QjamlKRGKj-w"
      },
      "outputs": [],
      "source": [
        "from langchain.llms import OpenAI\n",
        "from langchain.retrievers.self_query.base import SelfQueryRetriever\n",
        "from langchain.chains.query_constructor.base import AttributeInfo\n",
        "\n",
        "metadata_field_info = [\n",
        "    AttributeInfo(\n",
        "        name=\"grape\",\n",
        "        description=\"The grape used to make the wine\",\n",
        "        type=\"string or list[string]\",\n",
        "    ),\n",
        "    AttributeInfo(\n",
        "        name=\"name\",\n",
        "        description=\"The name of the wine\",\n",
        "        type=\"string or list[string]\",\n",
        "    ),\n",
        "    AttributeInfo(\n",
        "        name=\"color\",\n",
        "        description=\"The color of the wine\",\n",
        "        type=\"string or list[string]\",\n",
        "    ),\n",
        "    AttributeInfo(\n",
        "        name=\"year\",\n",
        "        description=\"The year the wine was released\",\n",
        "        type=\"integer\",\n",
        "    ),\n",
        "    AttributeInfo(\n",
        "        name=\"country\",\n",
        "        description=\"The name of the country the wine comes from\",\n",
        "        type=\"string\",\n",
        "    ),\n",
        "    AttributeInfo(\n",
        "        name=\"rating\", description=\"The Robert Parker rating for the wine 0-100\", type=\"integer\" #float\n",
        "    ),\n",
        "]\n",
        "document_content_description = \"Brief description of the wine\""
      ]
    },
    {
      "cell_type": "code",
      "execution_count": 14,
      "metadata": {
        "id": "K0Biov86RtzW"
      },
      "outputs": [],
      "source": [
        "from langchain.chat_models import ChatOpenAI\n",
        "llm = ChatOpenAI(\n",
        "    model_name=\"llama3-8b-8192\",\n",
        "    openai_api_key=openai.api_key,\n",
        "    openai_api_base=\"https://api.groq.com/openai/v1\",\n",
        ")\n",
        "\n",
        "\n",
        "retriever = SelfQueryRetriever.from_llm(\n",
        "    llm,\n",
        "    vectorstore,\n",
        "    document_content_description,\n",
        "    metadata_field_info,\n",
        "    verbose=True\n",
        ")"
      ]
    },
    {
      "cell_type": "code",
      "execution_count": 15,
      "metadata": {
        "colab": {
          "base_uri": "https://localhost:8080/"
        },
        "id": "uuzLo2vQKkDP",
        "outputId": "62356ebe-e67e-433a-84c8-3e077afa40ff"
      },
      "outputs": [
        {
          "data": {
            "text/plain": [
              "[Document(metadata={'grape': 'Shiraz', 'rating': 97, 'year': 2017, 'name': 'Penfolds Grange', 'color': 'red', 'country': 'Australia'}, page_content='Full-bodied red with notes of black fruit and spice'),\n",
              " Document(metadata={'name': 'Caymus Special Selection', 'color': 'red', 'country': 'USA', 'rating': 96, 'year': 2018, 'grape': 'Cabernet Sauvignon'}, page_content='Intense, dark fruit flavors with hints of chocolate'),\n",
              " Document(metadata={'rating': 96, 'color': 'red', 'year': 2018, 'grape': 'Cabernet Sauvignon', 'name': 'Opus One', 'country': 'USA'}, page_content='Complex, layered, rich red with dark fruit flavors'),\n",
              " Document(metadata={'color': 'red', 'rating': 95, 'grape': 'Cabernet Franc', 'country': 'Italy', 'name': 'Sassicaia', 'year': 2016}, page_content='Elegant, balanced red with herbal and berry nuances')]"
            ]
          },
          "execution_count": 15,
          "metadata": {},
          "output_type": "execute_result"
        }
      ],
      "source": [
        "# This example only specifies a relevant query\n",
        "retriever.get_relevant_documents(\"What are some red wines\")"
      ]
    },
    {
      "cell_type": "code",
      "execution_count": 16,
      "metadata": {
        "colab": {
          "base_uri": "https://localhost:8080/"
        },
        "id": "aLq1NlRqKkL-",
        "outputId": "b5b407af-78e1-4358-de91-fa49fa4b1b3d"
      },
      "outputs": [
        {
          "data": {
            "text/plain": [
              "[Document(metadata={'year': 2018, 'name': 'Opus One', 'color': 'red', 'rating': 96, 'grape': 'Cabernet Sauvignon', 'country': 'USA'}, page_content='Complex, layered, rich red with dark fruit flavors'),\n",
              " Document(metadata={'country': 'USA', 'grape': 'Cabernet Sauvignon', 'year': 2018, 'rating': 96, 'color': 'red', 'name': 'Caymus Special Selection'}, page_content='Intense, dark fruit flavors with hints of chocolate'),\n",
              " Document(metadata={'rating': 92, 'color': 'white', 'name': 'Cloudy Bay', 'year': 2021, 'country': 'New Zealand', 'grape': 'Sauvignon Blanc'}, page_content='Crisp white with tropical fruit and citrus flavors'),\n",
              " Document(metadata={'name': \"Château d'Yquem\", 'grape': 'Sémillon', 'rating': 98, 'year': 2015, 'country': 'France', 'color': 'white'}, page_content='Luxurious, sweet wine with flavors of honey, apricot, and peach')]"
            ]
          },
          "execution_count": 16,
          "metadata": {},
          "output_type": "execute_result"
        }
      ],
      "source": [
        "retriever.get_relevant_documents(\"I want a wine that has fruity nodes\")"
      ]
    },
    {
      "cell_type": "code",
      "execution_count": 17,
      "metadata": {
        "colab": {
          "base_uri": "https://localhost:8080/"
        },
        "id": "gpk7HgeDKkOm",
        "outputId": "8418f4d9-6bf2-47a9-a0de-c4837581470b"
      },
      "outputs": [
        {
          "data": {
            "text/plain": [
              "[Document(metadata={'country': 'Italy', 'grape': 'Cabernet Franc', 'year': 2016, 'color': 'red', 'rating': 95, 'name': 'Sassicaia'}, page_content='Elegant, balanced red with herbal and berry nuances'),\n",
              " Document(metadata={'name': 'Jermann Vintage Tunina', 'grape': 'Sauvignon Blanc blend', 'color': 'white', 'year': 2020, 'rating': 91, 'country': 'Italy'}, page_content='Exotic, aromatic white with stone fruit and floral notes')]"
            ]
          },
          "execution_count": 17,
          "metadata": {},
          "output_type": "execute_result"
        }
      ],
      "source": [
        "retriever.get_relevant_documents(\n",
        "    \"What wines come from Italy?\"\n",
        ")"
      ]
    },
    {
      "cell_type": "code",
      "execution_count": 18,
      "metadata": {
        "id": "VxW-2QMjKkSD"
      },
      "outputs": [],
      "source": [
        "retriever = SelfQueryRetriever.from_llm(\n",
        "    llm,\n",
        "    vectorstore,\n",
        "    document_content_description,\n",
        "    metadata_field_info,\n",
        "    enable_limit=True,\n",
        "    verbose=True,\n",
        ")"
      ]
    },
    {
      "cell_type": "code",
      "execution_count": 19,
      "metadata": {
        "colab": {
          "base_uri": "https://localhost:8080/"
        },
        "id": "hTdHkcdNwzCb",
        "outputId": "977a78a1-f1b9-45ee-903d-8d4504fbde39"
      },
      "outputs": [
        {
          "data": {
            "text/plain": [
              "[Document(metadata={'rating': 98, 'country': 'France', 'year': 2015, 'grape': 'Sémillon', 'color': 'white', 'name': \"Château d'Yquem\"}, page_content='Luxurious, sweet wine with flavors of honey, apricot, and peach'),\n",
              " Document(metadata={'country': 'France', 'year': 2018, 'rating': 100, 'color': 'red', 'grape': 'Pinot Noir', 'name': 'Domaine de la Romanée-Conti'}, page_content='Highly sought-after Pinot Noir with red fruit and earthy notes')]"
            ]
          },
          "execution_count": 19,
          "metadata": {},
          "output_type": "execute_result"
        }
      ],
      "source": [
        "retriever.get_relevant_documents(\"what are two that have a rating above 97\")"
      ]
    }
  ],
  "metadata": {
    "colab": {
      "provenance": []
    },
    "kernelspec": {
      "display_name": "Python 3",
      "name": "python3"
    },
    "language_info": {
      "name": "python"
    }
  },
  "nbformat": 4,
  "nbformat_minor": 0
}
